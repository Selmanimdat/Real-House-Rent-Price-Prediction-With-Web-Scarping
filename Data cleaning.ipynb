{
 "cells": [
  {
   "cell_type": "markdown",
   "id": "a83c55af",
   "metadata": {},
   "source": [
    "# Data Cleaning"
   ]
  },
  {
   "cell_type": "markdown",
   "id": "47d146fc-6a15-45e9-877f-cd4bbf1cf4c8",
   "metadata": {},
   "source": [
    "We will prepare data for modeling"
   ]
  },
  {
   "cell_type": "markdown",
   "id": "564edeaf-8171-471f-ba8d-40ff6a031080",
   "metadata": {},
   "source": [
    "<img src=\"https://miro.medium.com/v2/resize:fit:1400/1*aDiW2KddpHmTF3uAiibTCQ.png\">"
   ]
  },
  {
   "cell_type": "markdown",
   "id": "51a1d3bf-90f4-4abc-bb1b-7ceab9a23a59",
   "metadata": {},
   "source": [
    "### libraries"
   ]
  },
  {
   "cell_type": "code",
   "execution_count": 1,
   "id": "ba31193c",
   "metadata": {},
   "outputs": [],
   "source": [
    "import pandas as pd\n",
    "import seaborn as sns\n",
    "import numpy as np\n",
    "import pickle\n",
    "from sklearn.impute import KNNImputer\n",
    "import matplotlib.pyplot as plt\n",
    "pd.set_option('display.max_rows', None)\n",
    "pd.set_option('display.max_columns', None)"
   ]
  },
  {
   "cell_type": "markdown",
   "id": "3f07f2c8-d854-4542-9923-3dacd01bfe48",
   "metadata": {},
   "source": [
    "### Load Data"
   ]
  },
  {
   "cell_type": "code",
   "execution_count": 2,
   "id": "69607093",
   "metadata": {},
   "outputs": [],
   "source": [
    "df=pd.read_csv(\"rent_houses.csv\")"
   ]
  },
  {
   "cell_type": "markdown",
   "id": "9c522ec4-66a1-411a-9dc3-a318b149122e",
   "metadata": {},
   "source": [
    "## EDA - Explatory Data Analysis"
   ]
  },
  {
   "cell_type": "markdown",
   "id": "4dd4c007-6446-4e59-befd-0ef0f2e43cc3",
   "metadata": {},
   "source": [
    "### Data Shape"
   ]
  },
  {
   "cell_type": "code",
   "execution_count": 3,
   "id": "ac834f16-c5c8-4d2f-8361-1d114935b3c3",
   "metadata": {},
   "outputs": [
    {
     "data": {
      "text/plain": [
       "(898, 42)"
      ]
     },
     "execution_count": 3,
     "metadata": {},
     "output_type": "execute_result"
    }
   ],
   "source": [
    "df.shape"
   ]
  },
  {
   "cell_type": "markdown",
   "id": "a1a4a193-2242-470a-b9a4-679a7f7e34fb",
   "metadata": {},
   "source": [
    "### See First 5 Cels"
   ]
  },
  {
   "cell_type": "code",
   "execution_count": 4,
   "id": "412a905c",
   "metadata": {},
   "outputs": [
    {
     "data": {
      "text/html": [
       "<div>\n",
       "<style scoped>\n",
       "    .dataframe tbody tr th:only-of-type {\n",
       "        vertical-align: middle;\n",
       "    }\n",
       "\n",
       "    .dataframe tbody tr th {\n",
       "        vertical-align: top;\n",
       "    }\n",
       "\n",
       "    .dataframe thead th {\n",
       "        text-align: right;\n",
       "    }\n",
       "</style>\n",
       "<table border=\"1\" class=\"dataframe\">\n",
       "  <thead>\n",
       "    <tr style=\"text-align: right;\">\n",
       "      <th></th>\n",
       "      <th>Location</th>\n",
       "      <th>Price</th>\n",
       "      <th>İlan Tarihi</th>\n",
       "      <th>İlan no</th>\n",
       "      <th>Net m²</th>\n",
       "      <th>Brüt m²</th>\n",
       "      <th>Oda Sayısı</th>\n",
       "      <th>Banyo Sayısı</th>\n",
       "      <th>Binadaki Kat Sayısı</th>\n",
       "      <th>Bulunduğu Kat</th>\n",
       "      <th>Krediye Uygun</th>\n",
       "      <th>Isıtma Tipi</th>\n",
       "      <th>Bina Yaşı</th>\n",
       "      <th>Görüntülü Ev Gezintisi\\n?</th>\n",
       "      <th>Mobilya Durumu</th>\n",
       "      <th>Kullanım Durumu</th>\n",
       "      <th>Yapının Durumu</th>\n",
       "      <th>Depozito</th>\n",
       "      <th>Aidat</th>\n",
       "      <th>Kimden</th>\n",
       "      <th>Konut Şekli</th>\n",
       "      <th>Hayvan Dostu Patili Evler</th>\n",
       "      <th>Tapu Durumu</th>\n",
       "      <th>m²</th>\n",
       "      <th>Bölüm/Oda Sayısı</th>\n",
       "      <th>Kapalı Alan</th>\n",
       "      <th>Yapı Tipi</th>\n",
       "      <th>Dış Cephe</th>\n",
       "      <th>Zemin Etüdlü</th>\n",
       "      <th>Ada</th>\n",
       "      <th>Parsel</th>\n",
       "      <th>Otopark</th>\n",
       "      <th>Devren</th>\n",
       "      <th>Tavan Yüksekliği</th>\n",
       "      <th>Arsa Alanı</th>\n",
       "      <th>Takasa Uygun</th>\n",
       "      <th>Kat Yüksekliği</th>\n",
       "      <th>Yıldız Sayısı</th>\n",
       "      <th>Kapasite</th>\n",
       "      <th>Kiralama Süresi</th>\n",
       "      <th>İmar Durumu</th>\n",
       "      <th>Parselli</th>\n",
       "    </tr>\n",
       "  </thead>\n",
       "  <tbody>\n",
       "    <tr>\n",
       "      <th>0</th>\n",
       "      <td>NaN</td>\n",
       "      <td>NaN</td>\n",
       "      <td>NaN</td>\n",
       "      <td>NaN</td>\n",
       "      <td>NaN</td>\n",
       "      <td>NaN</td>\n",
       "      <td>NaN</td>\n",
       "      <td>NaN</td>\n",
       "      <td>NaN</td>\n",
       "      <td>NaN</td>\n",
       "      <td>NaN</td>\n",
       "      <td>NaN</td>\n",
       "      <td>NaN</td>\n",
       "      <td>NaN</td>\n",
       "      <td>NaN</td>\n",
       "      <td>NaN</td>\n",
       "      <td>NaN</td>\n",
       "      <td>NaN</td>\n",
       "      <td>NaN</td>\n",
       "      <td>NaN</td>\n",
       "      <td>NaN</td>\n",
       "      <td>NaN</td>\n",
       "      <td>NaN</td>\n",
       "      <td>NaN</td>\n",
       "      <td>NaN</td>\n",
       "      <td>NaN</td>\n",
       "      <td>NaN</td>\n",
       "      <td>NaN</td>\n",
       "      <td>NaN</td>\n",
       "      <td>NaN</td>\n",
       "      <td>NaN</td>\n",
       "      <td>NaN</td>\n",
       "      <td>NaN</td>\n",
       "      <td>NaN</td>\n",
       "      <td>NaN</td>\n",
       "      <td>NaN</td>\n",
       "      <td>NaN</td>\n",
       "      <td>NaN</td>\n",
       "      <td>NaN</td>\n",
       "      <td>NaN</td>\n",
       "      <td>NaN</td>\n",
       "      <td>NaN</td>\n",
       "    </tr>\n",
       "    <tr>\n",
       "      <th>1</th>\n",
       "      <td>Fevzi Çakmak, Esenler\\n, İstanbul</td>\n",
       "      <td>30.000 TL</td>\n",
       "      <td>21 Haziran 2024</td>\n",
       "      <td>5085994.0</td>\n",
       "      <td>130</td>\n",
       "      <td>135m²</td>\n",
       "      <td>3+1</td>\n",
       "      <td>2</td>\n",
       "      <td>5</td>\n",
       "      <td>5</td>\n",
       "      <td>Hayır</td>\n",
       "      <td>NaN</td>\n",
       "      <td>NaN</td>\n",
       "      <td>NaN</td>\n",
       "      <td>NaN</td>\n",
       "      <td>NaN</td>\n",
       "      <td>NaN</td>\n",
       "      <td>NaN</td>\n",
       "      <td>NaN</td>\n",
       "      <td>NaN</td>\n",
       "      <td>NaN</td>\n",
       "      <td>NaN</td>\n",
       "      <td>NaN</td>\n",
       "      <td>NaN</td>\n",
       "      <td>NaN</td>\n",
       "      <td>NaN</td>\n",
       "      <td>NaN</td>\n",
       "      <td>NaN</td>\n",
       "      <td>NaN</td>\n",
       "      <td>NaN</td>\n",
       "      <td>NaN</td>\n",
       "      <td>NaN</td>\n",
       "      <td>NaN</td>\n",
       "      <td>NaN</td>\n",
       "      <td>NaN</td>\n",
       "      <td>NaN</td>\n",
       "      <td>NaN</td>\n",
       "      <td>NaN</td>\n",
       "      <td>NaN</td>\n",
       "      <td>NaN</td>\n",
       "      <td>NaN</td>\n",
       "      <td>NaN</td>\n",
       "    </tr>\n",
       "    <tr>\n",
       "      <th>2</th>\n",
       "      <td>Soğanlı, Bahçelievler\\n, İstanbul</td>\n",
       "      <td>11.000 TL</td>\n",
       "      <td>21 Haziran 2024</td>\n",
       "      <td>5074431.0</td>\n",
       "      <td>70</td>\n",
       "      <td>75m²</td>\n",
       "      <td>2+1</td>\n",
       "      <td>1</td>\n",
       "      <td>5</td>\n",
       "      <td>5</td>\n",
       "      <td>Hayır</td>\n",
       "      <td>Kombi (Doğalgaz)</td>\n",
       "      <td>31-35 arası</td>\n",
       "      <td>?</td>\n",
       "      <td>Eşyasız</td>\n",
       "      <td>Boş</td>\n",
       "      <td>İkinci El</td>\n",
       "      <td>13.000 TL undefined</td>\n",
       "      <td>0 TL (aylık)</td>\n",
       "      <td>Danışman</td>\n",
       "      <td>NaN</td>\n",
       "      <td>NaN</td>\n",
       "      <td>NaN</td>\n",
       "      <td>NaN</td>\n",
       "      <td>NaN</td>\n",
       "      <td>NaN</td>\n",
       "      <td>NaN</td>\n",
       "      <td>NaN</td>\n",
       "      <td>NaN</td>\n",
       "      <td>NaN</td>\n",
       "      <td>NaN</td>\n",
       "      <td>NaN</td>\n",
       "      <td>NaN</td>\n",
       "      <td>NaN</td>\n",
       "      <td>NaN</td>\n",
       "      <td>NaN</td>\n",
       "      <td>NaN</td>\n",
       "      <td>NaN</td>\n",
       "      <td>NaN</td>\n",
       "      <td>NaN</td>\n",
       "      <td>NaN</td>\n",
       "      <td>NaN</td>\n",
       "    </tr>\n",
       "    <tr>\n",
       "      <th>3</th>\n",
       "      <td>Göztepe, Kadıköy\\n, İstanbul</td>\n",
       "      <td>50.000 TL</td>\n",
       "      <td>20 Haziran 2024</td>\n",
       "      <td>5085833.0</td>\n",
       "      <td>70</td>\n",
       "      <td>95m²</td>\n",
       "      <td>2+1</td>\n",
       "      <td>1</td>\n",
       "      <td>10-20 arası</td>\n",
       "      <td>4</td>\n",
       "      <td>Hayır</td>\n",
       "      <td>Kombi (Doğalgaz)</td>\n",
       "      <td>0</td>\n",
       "      <td>?</td>\n",
       "      <td>Eşyasız</td>\n",
       "      <td>Boş</td>\n",
       "      <td>Sıfır</td>\n",
       "      <td>NaN</td>\n",
       "      <td>NaN</td>\n",
       "      <td>Danışman</td>\n",
       "      <td>Ara Kat</td>\n",
       "      <td>Evet</td>\n",
       "      <td>Kat Mülkiyeti</td>\n",
       "      <td>NaN</td>\n",
       "      <td>NaN</td>\n",
       "      <td>NaN</td>\n",
       "      <td>NaN</td>\n",
       "      <td>NaN</td>\n",
       "      <td>NaN</td>\n",
       "      <td>NaN</td>\n",
       "      <td>NaN</td>\n",
       "      <td>NaN</td>\n",
       "      <td>NaN</td>\n",
       "      <td>NaN</td>\n",
       "      <td>NaN</td>\n",
       "      <td>NaN</td>\n",
       "      <td>NaN</td>\n",
       "      <td>NaN</td>\n",
       "      <td>NaN</td>\n",
       "      <td>NaN</td>\n",
       "      <td>NaN</td>\n",
       "      <td>NaN</td>\n",
       "    </tr>\n",
       "    <tr>\n",
       "      <th>4</th>\n",
       "      <td>NaN</td>\n",
       "      <td>NaN</td>\n",
       "      <td>NaN</td>\n",
       "      <td>NaN</td>\n",
       "      <td>NaN</td>\n",
       "      <td>NaN</td>\n",
       "      <td>NaN</td>\n",
       "      <td>NaN</td>\n",
       "      <td>NaN</td>\n",
       "      <td>NaN</td>\n",
       "      <td>NaN</td>\n",
       "      <td>NaN</td>\n",
       "      <td>NaN</td>\n",
       "      <td>NaN</td>\n",
       "      <td>NaN</td>\n",
       "      <td>NaN</td>\n",
       "      <td>NaN</td>\n",
       "      <td>NaN</td>\n",
       "      <td>NaN</td>\n",
       "      <td>NaN</td>\n",
       "      <td>NaN</td>\n",
       "      <td>NaN</td>\n",
       "      <td>NaN</td>\n",
       "      <td>NaN</td>\n",
       "      <td>NaN</td>\n",
       "      <td>NaN</td>\n",
       "      <td>NaN</td>\n",
       "      <td>NaN</td>\n",
       "      <td>NaN</td>\n",
       "      <td>NaN</td>\n",
       "      <td>NaN</td>\n",
       "      <td>NaN</td>\n",
       "      <td>NaN</td>\n",
       "      <td>NaN</td>\n",
       "      <td>NaN</td>\n",
       "      <td>NaN</td>\n",
       "      <td>NaN</td>\n",
       "      <td>NaN</td>\n",
       "      <td>NaN</td>\n",
       "      <td>NaN</td>\n",
       "      <td>NaN</td>\n",
       "      <td>NaN</td>\n",
       "    </tr>\n",
       "  </tbody>\n",
       "</table>\n",
       "</div>"
      ],
      "text/plain": [
       "                            Location      Price      İlan Tarihi    İlan no  \\\n",
       "0                                NaN        NaN              NaN        NaN   \n",
       "1  Fevzi Çakmak, Esenler\\n, İstanbul  30.000 TL  21 Haziran 2024  5085994.0   \n",
       "2  Soğanlı, Bahçelievler\\n, İstanbul  11.000 TL  21 Haziran 2024  5074431.0   \n",
       "3       Göztepe, Kadıköy\\n, İstanbul  50.000 TL  20 Haziran 2024  5085833.0   \n",
       "4                                NaN        NaN              NaN        NaN   \n",
       "\n",
       "  Net m² Brüt m² Oda Sayısı Banyo Sayısı Binadaki Kat Sayısı Bulunduğu Kat  \\\n",
       "0    NaN     NaN        NaN          NaN                 NaN           NaN   \n",
       "1    130   135m²        3+1            2                   5             5   \n",
       "2     70    75m²        2+1            1                   5             5   \n",
       "3     70    95m²        2+1            1         10-20 arası             4   \n",
       "4    NaN     NaN        NaN          NaN                 NaN           NaN   \n",
       "\n",
       "  Krediye Uygun       Isıtma Tipi    Bina Yaşı Görüntülü Ev Gezintisi\\n?  \\\n",
       "0           NaN               NaN          NaN                       NaN   \n",
       "1         Hayır               NaN          NaN                       NaN   \n",
       "2         Hayır  Kombi (Doğalgaz)  31-35 arası                         ?   \n",
       "3         Hayır  Kombi (Doğalgaz)            0                         ?   \n",
       "4           NaN               NaN          NaN                       NaN   \n",
       "\n",
       "  Mobilya Durumu Kullanım Durumu Yapının Durumu             Depozito  \\\n",
       "0            NaN             NaN            NaN                  NaN   \n",
       "1            NaN             NaN            NaN                  NaN   \n",
       "2        Eşyasız             Boş      İkinci El  13.000 TL undefined   \n",
       "3        Eşyasız             Boş          Sıfır                  NaN   \n",
       "4            NaN             NaN            NaN                  NaN   \n",
       "\n",
       "          Aidat    Kimden Konut Şekli Hayvan Dostu Patili Evler  \\\n",
       "0           NaN       NaN         NaN                       NaN   \n",
       "1           NaN       NaN         NaN                       NaN   \n",
       "2  0 TL (aylık)  Danışman         NaN                       NaN   \n",
       "3           NaN  Danışman     Ara Kat                      Evet   \n",
       "4           NaN       NaN         NaN                       NaN   \n",
       "\n",
       "     Tapu Durumu   m² Bölüm/Oda Sayısı Kapalı Alan Yapı Tipi Dış Cephe  \\\n",
       "0            NaN  NaN              NaN         NaN       NaN       NaN   \n",
       "1            NaN  NaN              NaN         NaN       NaN       NaN   \n",
       "2            NaN  NaN              NaN         NaN       NaN       NaN   \n",
       "3  Kat Mülkiyeti  NaN              NaN         NaN       NaN       NaN   \n",
       "4            NaN  NaN              NaN         NaN       NaN       NaN   \n",
       "\n",
       "  Zemin Etüdlü  Ada  Parsel Otopark Devren Tavan Yüksekliği Arsa Alanı  \\\n",
       "0          NaN  NaN     NaN     NaN    NaN              NaN        NaN   \n",
       "1          NaN  NaN     NaN     NaN    NaN              NaN        NaN   \n",
       "2          NaN  NaN     NaN     NaN    NaN              NaN        NaN   \n",
       "3          NaN  NaN     NaN     NaN    NaN              NaN        NaN   \n",
       "4          NaN  NaN     NaN     NaN    NaN              NaN        NaN   \n",
       "\n",
       "  Takasa Uygun Kat Yüksekliği  Yıldız Sayısı Kapasite Kiralama Süresi  \\\n",
       "0          NaN            NaN            NaN      NaN             NaN   \n",
       "1          NaN            NaN            NaN      NaN             NaN   \n",
       "2          NaN            NaN            NaN      NaN             NaN   \n",
       "3          NaN            NaN            NaN      NaN             NaN   \n",
       "4          NaN            NaN            NaN      NaN             NaN   \n",
       "\n",
       "  İmar Durumu Parselli  \n",
       "0         NaN      NaN  \n",
       "1         NaN      NaN  \n",
       "2         NaN      NaN  \n",
       "3         NaN      NaN  \n",
       "4         NaN      NaN  "
      ]
     },
     "execution_count": 4,
     "metadata": {},
     "output_type": "execute_result"
    }
   ],
   "source": [
    "df.head()"
   ]
  },
  {
   "cell_type": "markdown",
   "id": "9d6984f1-41e0-4253-9dce-87395d11fd8b",
   "metadata": {},
   "source": [
    "### Data İnfo"
   ]
  },
  {
   "cell_type": "code",
   "execution_count": 5,
   "id": "4cf7a718",
   "metadata": {},
   "outputs": [
    {
     "name": "stdout",
     "output_type": "stream",
     "text": [
      "<class 'pandas.core.frame.DataFrame'>\n",
      "RangeIndex: 898 entries, 0 to 897\n",
      "Data columns (total 42 columns):\n",
      " #   Column                     Non-Null Count  Dtype  \n",
      "---  ------                     --------------  -----  \n",
      " 0   Location                   579 non-null    object \n",
      " 1   Price                      579 non-null    object \n",
      " 2   İlan Tarihi                579 non-null    object \n",
      " 3   İlan no                    579 non-null    float64\n",
      " 4   Net m²                     425 non-null    object \n",
      " 5   Brüt m²                    352 non-null    object \n",
      " 6   Oda Sayısı                 336 non-null    object \n",
      " 7   Banyo Sayısı               338 non-null    object \n",
      " 8   Binadaki Kat Sayısı        457 non-null    object \n",
      " 9   Bulunduğu Kat              412 non-null    object \n",
      " 10  Krediye Uygun              579 non-null    object \n",
      " 11  Isıtma Tipi                495 non-null    object \n",
      " 12  Bina Yaşı                  497 non-null    object \n",
      " 13  Görüntülü Ev Gezintisi\n",
      "?   118 non-null    object \n",
      " 14  Mobilya Durumu             285 non-null    object \n",
      " 15  Kullanım Durumu            425 non-null    object \n",
      " 16  Yapının Durumu             267 non-null    object \n",
      " 17  Depozito                   436 non-null    object \n",
      " 18  Aidat                      380 non-null    object \n",
      " 19  Kimden                     208 non-null    object \n",
      " 20  Konut Şekli                167 non-null    object \n",
      " 21  Hayvan Dostu Patili Evler  33 non-null     object \n",
      " 22  Tapu Durumu                148 non-null    object \n",
      " 23  m²                         227 non-null    object \n",
      " 24  Bölüm/Oda Sayısı           98 non-null     object \n",
      " 25  Kapalı Alan                11 non-null     object \n",
      " 26  Yapı Tipi                  6 non-null      object \n",
      " 27  Dış Cephe                  3 non-null      object \n",
      " 28  Zemin Etüdlü               23 non-null     object \n",
      " 29  Ada                        8 non-null      float64\n",
      " 30  Parsel                     8 non-null      float64\n",
      " 31  Otopark                    3 non-null      object \n",
      " 32  Devren                     3 non-null      object \n",
      " 33  Tavan Yüksekliği           8 non-null      object \n",
      " 34  Arsa Alanı                 5 non-null      object \n",
      " 35  Takasa Uygun               4 non-null      object \n",
      " 36  Kat Yüksekliği             4 non-null      object \n",
      " 37  Yıldız Sayısı              1 non-null      float64\n",
      " 38  Kapasite                   1 non-null      object \n",
      " 39  Kiralama Süresi            1 non-null      object \n",
      " 40  İmar Durumu                1 non-null      object \n",
      " 41  Parselli                   1 non-null      object \n",
      "dtypes: float64(4), object(38)\n",
      "memory usage: 294.8+ KB\n"
     ]
    }
   ],
   "source": [
    "df.info()"
   ]
  },
  {
   "cell_type": "markdown",
   "id": "8616755d-75b9-46f3-9a41-80f0a51fd612",
   "metadata": {},
   "source": [
    "### Corelations"
   ]
  },
  {
   "cell_type": "code",
   "execution_count": 6,
   "id": "5d44e951",
   "metadata": {},
   "outputs": [
    {
     "data": {
      "text/html": [
       "<div>\n",
       "<style scoped>\n",
       "    .dataframe tbody tr th:only-of-type {\n",
       "        vertical-align: middle;\n",
       "    }\n",
       "\n",
       "    .dataframe tbody tr th {\n",
       "        vertical-align: top;\n",
       "    }\n",
       "\n",
       "    .dataframe thead th {\n",
       "        text-align: right;\n",
       "    }\n",
       "</style>\n",
       "<table border=\"1\" class=\"dataframe\">\n",
       "  <thead>\n",
       "    <tr style=\"text-align: right;\">\n",
       "      <th></th>\n",
       "      <th>İlan no</th>\n",
       "      <th>Ada</th>\n",
       "      <th>Parsel</th>\n",
       "      <th>Yıldız Sayısı</th>\n",
       "    </tr>\n",
       "  </thead>\n",
       "  <tbody>\n",
       "    <tr>\n",
       "      <th>İlan no</th>\n",
       "      <td>1.000000</td>\n",
       "      <td>0.483710</td>\n",
       "      <td>0.363262</td>\n",
       "      <td>NaN</td>\n",
       "    </tr>\n",
       "    <tr>\n",
       "      <th>Ada</th>\n",
       "      <td>0.483710</td>\n",
       "      <td>1.000000</td>\n",
       "      <td>-0.192723</td>\n",
       "      <td>NaN</td>\n",
       "    </tr>\n",
       "    <tr>\n",
       "      <th>Parsel</th>\n",
       "      <td>0.363262</td>\n",
       "      <td>-0.192723</td>\n",
       "      <td>1.000000</td>\n",
       "      <td>NaN</td>\n",
       "    </tr>\n",
       "    <tr>\n",
       "      <th>Yıldız Sayısı</th>\n",
       "      <td>NaN</td>\n",
       "      <td>NaN</td>\n",
       "      <td>NaN</td>\n",
       "      <td>NaN</td>\n",
       "    </tr>\n",
       "  </tbody>\n",
       "</table>\n",
       "</div>"
      ],
      "text/plain": [
       "                İlan no       Ada    Parsel  Yıldız Sayısı\n",
       "İlan no        1.000000  0.483710  0.363262            NaN\n",
       "Ada            0.483710  1.000000 -0.192723            NaN\n",
       "Parsel         0.363262 -0.192723  1.000000            NaN\n",
       "Yıldız Sayısı       NaN       NaN       NaN            NaN"
      ]
     },
     "execution_count": 6,
     "metadata": {},
     "output_type": "execute_result"
    }
   ],
   "source": [
    "df.corr(numeric_only=True)"
   ]
  },
  {
   "cell_type": "markdown",
   "id": "f8786ae3-17fc-4532-ac11-bb5e813cfe65",
   "metadata": {},
   "source": [
    "### Statistics"
   ]
  },
  {
   "cell_type": "code",
   "execution_count": 7,
   "id": "b3cd0b60",
   "metadata": {},
   "outputs": [
    {
     "data": {
      "text/html": [
       "<div>\n",
       "<style scoped>\n",
       "    .dataframe tbody tr th:only-of-type {\n",
       "        vertical-align: middle;\n",
       "    }\n",
       "\n",
       "    .dataframe tbody tr th {\n",
       "        vertical-align: top;\n",
       "    }\n",
       "\n",
       "    .dataframe thead th {\n",
       "        text-align: right;\n",
       "    }\n",
       "</style>\n",
       "<table border=\"1\" class=\"dataframe\">\n",
       "  <thead>\n",
       "    <tr style=\"text-align: right;\">\n",
       "      <th></th>\n",
       "      <th>count</th>\n",
       "      <th>mean</th>\n",
       "      <th>std</th>\n",
       "      <th>min</th>\n",
       "      <th>25%</th>\n",
       "      <th>50%</th>\n",
       "      <th>75%</th>\n",
       "      <th>max</th>\n",
       "    </tr>\n",
       "  </thead>\n",
       "  <tbody>\n",
       "    <tr>\n",
       "      <th>İlan no</th>\n",
       "      <td>579.0</td>\n",
       "      <td>4.956341e+06</td>\n",
       "      <td>397537.272143</td>\n",
       "      <td>415910.0</td>\n",
       "      <td>5003521.00</td>\n",
       "      <td>5042345.0</td>\n",
       "      <td>5072973.00</td>\n",
       "      <td>5086429.0</td>\n",
       "    </tr>\n",
       "    <tr>\n",
       "      <th>Ada</th>\n",
       "      <td>8.0</td>\n",
       "      <td>2.926750e+03</td>\n",
       "      <td>5336.217862</td>\n",
       "      <td>54.0</td>\n",
       "      <td>640.25</td>\n",
       "      <td>1038.5</td>\n",
       "      <td>2069.00</td>\n",
       "      <td>16004.0</td>\n",
       "    </tr>\n",
       "    <tr>\n",
       "      <th>Parsel</th>\n",
       "      <td>8.0</td>\n",
       "      <td>3.412500e+01</td>\n",
       "      <td>54.401779</td>\n",
       "      <td>3.0</td>\n",
       "      <td>9.25</td>\n",
       "      <td>17.5</td>\n",
       "      <td>24.25</td>\n",
       "      <td>167.0</td>\n",
       "    </tr>\n",
       "    <tr>\n",
       "      <th>Yıldız Sayısı</th>\n",
       "      <td>1.0</td>\n",
       "      <td>5.000000e+00</td>\n",
       "      <td>NaN</td>\n",
       "      <td>5.0</td>\n",
       "      <td>5.00</td>\n",
       "      <td>5.0</td>\n",
       "      <td>5.00</td>\n",
       "      <td>5.0</td>\n",
       "    </tr>\n",
       "  </tbody>\n",
       "</table>\n",
       "</div>"
      ],
      "text/plain": [
       "               count          mean            std       min         25%  \\\n",
       "İlan no        579.0  4.956341e+06  397537.272143  415910.0  5003521.00   \n",
       "Ada              8.0  2.926750e+03    5336.217862      54.0      640.25   \n",
       "Parsel           8.0  3.412500e+01      54.401779       3.0        9.25   \n",
       "Yıldız Sayısı    1.0  5.000000e+00            NaN       5.0        5.00   \n",
       "\n",
       "                     50%         75%        max  \n",
       "İlan no        5042345.0  5072973.00  5086429.0  \n",
       "Ada               1038.5     2069.00    16004.0  \n",
       "Parsel              17.5       24.25      167.0  \n",
       "Yıldız Sayısı        5.0        5.00        5.0  "
      ]
     },
     "execution_count": 7,
     "metadata": {},
     "output_type": "execute_result"
    }
   ],
   "source": [
    "df.describe().T"
   ]
  },
  {
   "cell_type": "markdown",
   "id": "8ec3e1c1-6177-4198-973e-9ecb0778aea7",
   "metadata": {},
   "source": [
    "### Mising Values"
   ]
  },
  {
   "cell_type": "code",
   "execution_count": 8,
   "id": "c2add295",
   "metadata": {},
   "outputs": [
    {
     "data": {
      "text/plain": [
       "Location                     319\n",
       "Price                        319\n",
       "İlan Tarihi                  319\n",
       "İlan no                      319\n",
       "Net m²                       473\n",
       "Brüt m²                      546\n",
       "Oda Sayısı                   562\n",
       "Banyo Sayısı                 560\n",
       "Binadaki Kat Sayısı          441\n",
       "Bulunduğu Kat                486\n",
       "Krediye Uygun                319\n",
       "Isıtma Tipi                  403\n",
       "Bina Yaşı                    401\n",
       "Görüntülü Ev Gezintisi\\n?    780\n",
       "Mobilya Durumu               613\n",
       "Kullanım Durumu              473\n",
       "Yapının Durumu               631\n",
       "Depozito                     462\n",
       "Aidat                        518\n",
       "Kimden                       690\n",
       "Konut Şekli                  731\n",
       "Hayvan Dostu Patili Evler    865\n",
       "Tapu Durumu                  750\n",
       "m²                           671\n",
       "Bölüm/Oda Sayısı             800\n",
       "Kapalı Alan                  887\n",
       "Yapı Tipi                    892\n",
       "Dış Cephe                    895\n",
       "Zemin Etüdlü                 875\n",
       "Ada                          890\n",
       "Parsel                       890\n",
       "Otopark                      895\n",
       "Devren                       895\n",
       "Tavan Yüksekliği             890\n",
       "Arsa Alanı                   893\n",
       "Takasa Uygun                 894\n",
       "Kat Yüksekliği               894\n",
       "Yıldız Sayısı                897\n",
       "Kapasite                     897\n",
       "Kiralama Süresi              897\n",
       "İmar Durumu                  897\n",
       "Parselli                     897\n",
       "dtype: int64"
      ]
     },
     "execution_count": 8,
     "metadata": {},
     "output_type": "execute_result"
    }
   ],
   "source": [
    "df.isnull().sum()"
   ]
  },
  {
   "cell_type": "markdown",
   "id": "9fc7307b",
   "metadata": {},
   "source": [
    "## Preprocesing"
   ]
  },
  {
   "cell_type": "markdown",
   "id": "95d18bee-5dc3-47c4-8bdb-c7fabe278a9b",
   "metadata": {},
   "source": [
    "We delete columns which %80 of  mising"
   ]
  },
  {
   "cell_type": "code",
   "execution_count": 9,
   "id": "207bebe9-f755-43e3-aaa6-bef084f0bc12",
   "metadata": {},
   "outputs": [
    {
     "data": {
      "text/plain": [
       "718.4000000000001"
      ]
     },
     "execution_count": 9,
     "metadata": {},
     "output_type": "execute_result"
    }
   ],
   "source": [
    "898*.80"
   ]
  },
  {
   "cell_type": "code",
   "execution_count": 10,
   "id": "efeb1ccf",
   "metadata": {},
   "outputs": [],
   "source": [
    "df=df[['Location', 'Price', 'İlan Tarihi', 'İlan no', 'Net m²', 'Brüt m²', 'Oda Sayısı', 'Banyo Sayısı', 'Binadaki Kat Sayısı', 'Bulunduğu Kat', 'Krediye Uygun', 'Isıtma Tipi', 'Bina Yaşı', 'Mobilya Durumu', 'Kullanım Durumu', 'Yapının Durumu', 'Depozito', 'Aidat', 'Kimden', 'm²']]"
   ]
  },
  {
   "cell_type": "markdown",
   "id": "05231cae-3b16-47dc-ace6-08b66fc2949b",
   "metadata": {},
   "source": [
    "### Control all column fill,fix and prepare"
   ]
  },
  {
   "cell_type": "code",
   "execution_count": 11,
   "id": "c98aa622-606c-4635-867e-ced04d5aa790",
   "metadata": {},
   "outputs": [
    {
     "data": {
      "text/html": [
       "<div>\n",
       "<style scoped>\n",
       "    .dataframe tbody tr th:only-of-type {\n",
       "        vertical-align: middle;\n",
       "    }\n",
       "\n",
       "    .dataframe tbody tr th {\n",
       "        vertical-align: top;\n",
       "    }\n",
       "\n",
       "    .dataframe thead th {\n",
       "        text-align: right;\n",
       "    }\n",
       "</style>\n",
       "<table border=\"1\" class=\"dataframe\">\n",
       "  <thead>\n",
       "    <tr style=\"text-align: right;\">\n",
       "      <th></th>\n",
       "      <th>Location</th>\n",
       "      <th>Price</th>\n",
       "      <th>İlan Tarihi</th>\n",
       "      <th>İlan no</th>\n",
       "      <th>Net m²</th>\n",
       "      <th>Brüt m²</th>\n",
       "      <th>Oda Sayısı</th>\n",
       "      <th>Banyo Sayısı</th>\n",
       "      <th>Binadaki Kat Sayısı</th>\n",
       "      <th>Bulunduğu Kat</th>\n",
       "      <th>Krediye Uygun</th>\n",
       "      <th>Isıtma Tipi</th>\n",
       "      <th>Bina Yaşı</th>\n",
       "      <th>Mobilya Durumu</th>\n",
       "      <th>Kullanım Durumu</th>\n",
       "      <th>Yapının Durumu</th>\n",
       "      <th>Depozito</th>\n",
       "      <th>Aidat</th>\n",
       "      <th>Kimden</th>\n",
       "      <th>m²</th>\n",
       "    </tr>\n",
       "  </thead>\n",
       "  <tbody>\n",
       "    <tr>\n",
       "      <th>0</th>\n",
       "      <td>NaN</td>\n",
       "      <td>NaN</td>\n",
       "      <td>NaN</td>\n",
       "      <td>NaN</td>\n",
       "      <td>NaN</td>\n",
       "      <td>NaN</td>\n",
       "      <td>NaN</td>\n",
       "      <td>NaN</td>\n",
       "      <td>NaN</td>\n",
       "      <td>NaN</td>\n",
       "      <td>NaN</td>\n",
       "      <td>NaN</td>\n",
       "      <td>NaN</td>\n",
       "      <td>NaN</td>\n",
       "      <td>NaN</td>\n",
       "      <td>NaN</td>\n",
       "      <td>NaN</td>\n",
       "      <td>NaN</td>\n",
       "      <td>NaN</td>\n",
       "      <td>NaN</td>\n",
       "    </tr>\n",
       "    <tr>\n",
       "      <th>1</th>\n",
       "      <td>Fevzi Çakmak, Esenler\\n, İstanbul</td>\n",
       "      <td>30.000 TL</td>\n",
       "      <td>21 Haziran 2024</td>\n",
       "      <td>5085994.0</td>\n",
       "      <td>130</td>\n",
       "      <td>135m²</td>\n",
       "      <td>3+1</td>\n",
       "      <td>2</td>\n",
       "      <td>5</td>\n",
       "      <td>5</td>\n",
       "      <td>Hayır</td>\n",
       "      <td>NaN</td>\n",
       "      <td>NaN</td>\n",
       "      <td>NaN</td>\n",
       "      <td>NaN</td>\n",
       "      <td>NaN</td>\n",
       "      <td>NaN</td>\n",
       "      <td>NaN</td>\n",
       "      <td>NaN</td>\n",
       "      <td>NaN</td>\n",
       "    </tr>\n",
       "    <tr>\n",
       "      <th>2</th>\n",
       "      <td>Soğanlı, Bahçelievler\\n, İstanbul</td>\n",
       "      <td>11.000 TL</td>\n",
       "      <td>21 Haziran 2024</td>\n",
       "      <td>5074431.0</td>\n",
       "      <td>70</td>\n",
       "      <td>75m²</td>\n",
       "      <td>2+1</td>\n",
       "      <td>1</td>\n",
       "      <td>5</td>\n",
       "      <td>5</td>\n",
       "      <td>Hayır</td>\n",
       "      <td>Kombi (Doğalgaz)</td>\n",
       "      <td>31-35 arası</td>\n",
       "      <td>Eşyasız</td>\n",
       "      <td>Boş</td>\n",
       "      <td>İkinci El</td>\n",
       "      <td>13.000 TL undefined</td>\n",
       "      <td>0 TL (aylık)</td>\n",
       "      <td>Danışman</td>\n",
       "      <td>NaN</td>\n",
       "    </tr>\n",
       "    <tr>\n",
       "      <th>3</th>\n",
       "      <td>Göztepe, Kadıköy\\n, İstanbul</td>\n",
       "      <td>50.000 TL</td>\n",
       "      <td>20 Haziran 2024</td>\n",
       "      <td>5085833.0</td>\n",
       "      <td>70</td>\n",
       "      <td>95m²</td>\n",
       "      <td>2+1</td>\n",
       "      <td>1</td>\n",
       "      <td>10-20 arası</td>\n",
       "      <td>4</td>\n",
       "      <td>Hayır</td>\n",
       "      <td>Kombi (Doğalgaz)</td>\n",
       "      <td>0</td>\n",
       "      <td>Eşyasız</td>\n",
       "      <td>Boş</td>\n",
       "      <td>Sıfır</td>\n",
       "      <td>NaN</td>\n",
       "      <td>NaN</td>\n",
       "      <td>Danışman</td>\n",
       "      <td>NaN</td>\n",
       "    </tr>\n",
       "    <tr>\n",
       "      <th>4</th>\n",
       "      <td>NaN</td>\n",
       "      <td>NaN</td>\n",
       "      <td>NaN</td>\n",
       "      <td>NaN</td>\n",
       "      <td>NaN</td>\n",
       "      <td>NaN</td>\n",
       "      <td>NaN</td>\n",
       "      <td>NaN</td>\n",
       "      <td>NaN</td>\n",
       "      <td>NaN</td>\n",
       "      <td>NaN</td>\n",
       "      <td>NaN</td>\n",
       "      <td>NaN</td>\n",
       "      <td>NaN</td>\n",
       "      <td>NaN</td>\n",
       "      <td>NaN</td>\n",
       "      <td>NaN</td>\n",
       "      <td>NaN</td>\n",
       "      <td>NaN</td>\n",
       "      <td>NaN</td>\n",
       "    </tr>\n",
       "  </tbody>\n",
       "</table>\n",
       "</div>"
      ],
      "text/plain": [
       "                            Location      Price      İlan Tarihi    İlan no  \\\n",
       "0                                NaN        NaN              NaN        NaN   \n",
       "1  Fevzi Çakmak, Esenler\\n, İstanbul  30.000 TL  21 Haziran 2024  5085994.0   \n",
       "2  Soğanlı, Bahçelievler\\n, İstanbul  11.000 TL  21 Haziran 2024  5074431.0   \n",
       "3       Göztepe, Kadıköy\\n, İstanbul  50.000 TL  20 Haziran 2024  5085833.0   \n",
       "4                                NaN        NaN              NaN        NaN   \n",
       "\n",
       "  Net m² Brüt m² Oda Sayısı Banyo Sayısı Binadaki Kat Sayısı Bulunduğu Kat  \\\n",
       "0    NaN     NaN        NaN          NaN                 NaN           NaN   \n",
       "1    130   135m²        3+1            2                   5             5   \n",
       "2     70    75m²        2+1            1                   5             5   \n",
       "3     70    95m²        2+1            1         10-20 arası             4   \n",
       "4    NaN     NaN        NaN          NaN                 NaN           NaN   \n",
       "\n",
       "  Krediye Uygun       Isıtma Tipi    Bina Yaşı Mobilya Durumu Kullanım Durumu  \\\n",
       "0           NaN               NaN          NaN            NaN             NaN   \n",
       "1         Hayır               NaN          NaN            NaN             NaN   \n",
       "2         Hayır  Kombi (Doğalgaz)  31-35 arası        Eşyasız             Boş   \n",
       "3         Hayır  Kombi (Doğalgaz)            0        Eşyasız             Boş   \n",
       "4           NaN               NaN          NaN            NaN             NaN   \n",
       "\n",
       "  Yapının Durumu             Depozito         Aidat    Kimden   m²  \n",
       "0            NaN                  NaN           NaN       NaN  NaN  \n",
       "1            NaN                  NaN           NaN       NaN  NaN  \n",
       "2      İkinci El  13.000 TL undefined  0 TL (aylık)  Danışman  NaN  \n",
       "3          Sıfır                  NaN           NaN  Danışman  NaN  \n",
       "4            NaN                  NaN           NaN       NaN  NaN  "
      ]
     },
     "execution_count": 11,
     "metadata": {},
     "output_type": "execute_result"
    }
   ],
   "source": [
    "df.head()"
   ]
  },
  {
   "cell_type": "code",
   "execution_count": 12,
   "id": "c539ea55-e01e-4871-a7ea-8d81902f67f1",
   "metadata": {},
   "outputs": [
    {
     "data": {
      "text/plain": [
       "array([nan, 'Fevzi Çakmak, Esenler\\n, İstanbul',\n",
       "       'Soğanlı, Bahçelievler\\n, İstanbul',\n",
       "       'Göztepe, Kadıköy\\n, İstanbul', 'Pınar, Sarıyer\\n, İstanbul',\n",
       "       'Teşvikiye, Şişli\\n, İstanbul', 'Hobyar, Fatih\\n, İstanbul',\n",
       "       'Çeliktepe, Kağıthane\\n, İstanbul', 'Yukarı, Kartal\\n, İstanbul',\n",
       "       'Esentepe, Kartal\\n, İstanbul', 'Ferahevler, Sarıyer\\n, İstanbul',\n",
       "       'İçmeler, Tuzla\\n, İstanbul',\n",
       "       'Siyavuşpaşa, Bahçelievler\\n, İstanbul',\n",
       "       'Balat, Fatih\\n, İstanbul', 'İstinye, Sarıyer\\n, İstanbul',\n",
       "       'Cumhuriyet, Bahçelievler\\n, İstanbul',\n",
       "       'Barbaros, Bağcılar\\n, İstanbul', 'Süleymaniye, Fatih\\n, İstanbul',\n",
       "       'Gürsel, Kağıthane\\n, İstanbul',\n",
       "       'Kartaltepe, Bakırköy\\n, İstanbul', 'Alemdar, Fatih\\n, İstanbul',\n",
       "       'Zekeriyaköy, Sarıyer\\n, İstanbul',\n",
       "       'Uskumruköy, Sarıyer\\n, İstanbul', 'Kumköy, Sarıyer\\n, İstanbul',\n",
       "       'Demirciköy, Sarıyer\\n, İstanbul',\n",
       "       '15 Temmuz, Bağcılar\\n, İstanbul', 'Aksaray, Fatih\\n, İstanbul',\n",
       "       'Katip Kasım, Fatih\\n, İstanbul',\n",
       "       'Hamidiye, Kağıthane\\n, İstanbul',\n",
       "       'Nisbetiye, Beşiktaş\\n, İstanbul', 'Bülbül, Beyoğlu\\n, İstanbul',\n",
       "       'Merkez, Güngören\\n, İstanbul', 'Akat, Beşiktaş\\n, İstanbul',\n",
       "       'Altayçeşme, Maltepe\\n, İstanbul',\n",
       "       'Göktürk Merkez, Eyüpsultan\\n, İstanbul',\n",
       "       'Beştelsiz, Zeytinburnu\\n, İstanbul',\n",
       "       'Basınköy, Bakırköy\\n, İstanbul',\n",
       "       'Yenibosna Merkez, Bahçelievler\\n, İstanbul',\n",
       "       'Feyzullah, Maltepe\\n, İstanbul', 'Tarabya, Sarıyer\\n, İstanbul',\n",
       "       'Fenerbahçe, Kadıköy\\n, İstanbul',\n",
       "       'Konaklar, Beşiktaş\\n, İstanbul', 'Merkez, Kağıthane\\n, İstanbul',\n",
       "       'Bahçeşehir 1. Kısım, Başakşehir\\n, İstanbul',\n",
       "       'Çobançeşme, Bahçelievler\\n, İstanbul',\n",
       "       'Barbaros, Üsküdar\\n, İstanbul', 'Gençosman, Güngören\\n, İstanbul',\n",
       "       'Gayrettepe, Beşiktaş\\n, İstanbul', 'Ali Kuşçu, Fatih\\n, İstanbul',\n",
       "       'Valide-i Atik, Üsküdar\\n, İstanbul',\n",
       "       'Kocasinan Merkez, Bahçelievler\\n, İstanbul',\n",
       "       'Cumhuriyet, Üsküdar\\n, İstanbul',\n",
       "       'Ataköy 7-8-9-10. Kısım, Bakırköy\\n, İstanbul',\n",
       "       'Dikilitaş, Beşiktaş\\n, İstanbul',\n",
       "       'Selami Ali, Üsküdar\\n, İstanbul',\n",
       "       'Kalenderhane, Fatih\\n, İstanbul',\n",
       "       'Murat Reis, Üsküdar\\n, İstanbul', 'Osmanağa, Kadıköy\\n, İstanbul',\n",
       "       'Hırka-i Şerif, Fatih\\n, İstanbul',\n",
       "       'Atatürk, Ataşehir\\n, İstanbul', 'Merkez, Avcılar\\n, İstanbul',\n",
       "       'Ambarlı, Avcılar\\n, İstanbul', 'İnönü, Ataşehir\\n, İstanbul',\n",
       "       'Maltepe, Zeytinburnu\\n, İstanbul',\n",
       "       'Firuzköy, Avcılar\\n, İstanbul', 'Yeniköy, Sarıyer\\n, İstanbul',\n",
       "       'Yeşilköy, Bakırköy\\n, İstanbul', 'Çavuşoğlu, Kartal\\n, İstanbul',\n",
       "       'Şenlikköy, Bakırköy\\n, İstanbul',\n",
       "       'Abbasağa, Beşiktaş\\n, İstanbul',\n",
       "       'Yeşilkent, Esenyurt\\n, İstanbul',\n",
       "       'İçerenköy, Ataşehir\\n, İstanbul',\n",
       "       'Caddebostan, Kadıköy\\n, İstanbul',\n",
       "       'Gültepe, Kağıthane\\n, İstanbul', 'Saray, Ümraniye\\n, İstanbul',\n",
       "       'Yenikent, Esenyurt\\n, İstanbul',\n",
       "       'Bahçelievler, Bahçelievler\\n, İstanbul',\n",
       "       'Telsiz, Zeytinburnu\\n, İstanbul',\n",
       "       'Yıldıztepe, Bağcılar\\n, İstanbul', 'Ünalan, Üsküdar\\n, İstanbul',\n",
       "       'Etiler, Beşiktaş\\n, İstanbul', 'Barış, Beylikdüzü\\n, İstanbul',\n",
       "       'Zuhuratbaba, Bakırköy\\n, İstanbul',\n",
       "       'Bostancı, Kadıköy\\n, İstanbul',\n",
       "       'Yenimahalle, Bağcılar\\n, İstanbul',\n",
       "       'Harmandere, Pendik\\n, İstanbul', 'Suadiye, Kadıköy\\n, İstanbul',\n",
       "       'Orhan Gazi, Esenyurt\\n, İstanbul',\n",
       "       'Zafer, Bahçelievler\\n, İstanbul', 'Eğitim, Kadıköy\\n, İstanbul',\n",
       "       'Menderes, Esenler\\n, İstanbul',\n",
       "       'Zümrütevler, Maltepe\\n, İstanbul', 'Bağlar, Bağcılar\\n, İstanbul',\n",
       "       'Bağlarbaşı, Maltepe\\n, İstanbul', 'Çakıl, Çatalca\\n, İstanbul',\n",
       "       'Merdivenköy, Kadıköy\\n, İstanbul',\n",
       "       'Çengelköy, Üsküdar\\n, İstanbul', 'Mimar Sinan, Tuzla\\n, İstanbul',\n",
       "       'Mehmet Akif Ersoy, Esenyurt\\n, İstanbul',\n",
       "       'Güzeltepe, Eyüpsultan\\n, İstanbul',\n",
       "       'Levent, Beşiktaş\\n, İstanbul', 'Güzelyurt, Esenyurt\\n, İstanbul',\n",
       "       'Kocatepe, Bayrampaşa\\n, İstanbul', 'Ferah, Üsküdar\\n, İstanbul',\n",
       "       'Alibey, Silivri\\n, İstanbul', 'Ayazağa, Sarıyer\\n, İstanbul',\n",
       "       'Oruçreis, Esenler\\n, İstanbul', 'Zafer, Esenyurt\\n, İstanbul',\n",
       "       'Soğuksu, Beykoz\\n, İstanbul', 'Vişnezade, Beşiktaş\\n, İstanbul',\n",
       "       'Sultaniye, Esenyurt\\n, İstanbul',\n",
       "       'Yavuz Selim, Bağcılar\\n, İstanbul',\n",
       "       'Salacak, Üsküdar\\n, İstanbul', 'Ulus, Beşiktaş\\n, İstanbul',\n",
       "       'Cihangir, Beyoğlu\\n, İstanbul',\n",
       "       'Küçük Çamlıca, Üsküdar\\n, İstanbul',\n",
       "       'Poligon, Sarıyer\\n, İstanbul',\n",
       "       'Sururi Mehmet Efendi, Beyoğlu\\n, İstanbul',\n",
       "       'Mustafa Kemal Paşa, Avcılar\\n, İstanbul',\n",
       "       'Marmara, Beylikdüzü\\n, İstanbul',\n",
       "       'Kavaklı, Beylikdüzü\\n, İstanbul',\n",
       "       'Şahintepe, Başakşehir\\n, İstanbul',\n",
       "       'Mecidiye, Beşiktaş\\n, İstanbul',\n",
       "       'Yakacık Çarşı, Kartal\\n, İstanbul',\n",
       "       'Taşoluk, Arnavutköy\\n, İstanbul', 'Harbiye, Şişli\\n, İstanbul',\n",
       "       'Merkez, Şişli\\n, İstanbul', 'Cumhuriyet, Şişli\\n, İstanbul',\n",
       "       'Acarlar, Beykoz\\n, İstanbul', 'Maslak, Sarıyer\\n, İstanbul',\n",
       "       'İzzet Paşa, Şişli\\n, İstanbul', 'Reşitpaşa, Sarıyer\\n, İstanbul',\n",
       "       'Zeynep Kamil, Üsküdar\\n, İstanbul',\n",
       "       'Mevlana, Sancaktepe\\n, İstanbul',\n",
       "       'Güneştepe, Güngören\\n, İstanbul',\n",
       "       'Piri Reis, Esenyurt\\n, İstanbul',\n",
       "       'Barbaros, Ataşehir\\n, İstanbul',\n",
       "       'Halaskargazi, Şişli\\n, İstanbul', 'Fulya, Şişli\\n, İstanbul',\n",
       "       '19 Mayıs, Şişli\\n, İstanbul', 'Esentepe, Şişli\\n, İstanbul',\n",
       "       'İnönü, Şişli\\n, İstanbul', 'Türkali, Beşiktaş\\n, İstanbul',\n",
       "       'Tuna, Esenler\\n, İstanbul', 'Çınar, Bağcılar\\n, İstanbul',\n",
       "       'Yenidoğan, Bayrampaşa\\n, İstanbul',\n",
       "       'Cihangir, Avcılar\\n, İstanbul', 'Huzur, Sarıyer\\n, İstanbul',\n",
       "       'Merkez, Gaziosmanpaşa\\n, İstanbul',\n",
       "       'Acıbadem, Kadıköy\\n, İstanbul', 'Gazi, Sultangazi\\n, İstanbul',\n",
       "       'Bozkurt, Şişli\\n, İstanbul', 'Mecidiyeköy, Şişli\\n, İstanbul',\n",
       "       'Güneşli, Bağcılar\\n, İstanbul', 'Cihannüma, Beşiktaş\\n, İstanbul',\n",
       "       'Mimar Sinan, Esenler\\n, İstanbul', 'Cevizli, Maltepe\\n, İstanbul',\n",
       "       'Bağlarçeşme, Esenyurt\\n, İstanbul',\n",
       "       'Levazım, Beşiktaş\\n, İstanbul',\n",
       "       'Telsizler, Kağıthane\\n, İstanbul',\n",
       "       'Deliklikaya, Arnavutköy\\n, İstanbul',\n",
       "       'Ömer Avni, Beyoğlu\\n, İstanbul',\n",
       "       'Küçükbakkalköy, Ataşehir\\n, İstanbul',\n",
       "       'Kazlıçeşme, Zeytinburnu\\n, İstanbul', 'Şifa, Tuzla\\n, İstanbul',\n",
       "       'Pınartepe, Büyükçekmece\\n, İstanbul',\n",
       "       'Çakmak, Ümraniye\\n, İstanbul',\n",
       "       'Seyrantepe, Kağıthane\\n, İstanbul',\n",
       "       'Ataköy 2-5-6. Kısım, Bakırköy\\n, İstanbul',\n",
       "       'Yakuplu, Beylikdüzü\\n, İstanbul', 'İstiklal, Beyoğlu\\n, İstanbul',\n",
       "       'Hürriyet, Bağcılar\\n, İstanbul',\n",
       "       'Mustafa Kemal, Ataşehir\\n, İstanbul',\n",
       "       'Koza, Esenyurt\\n, İstanbul',\n",
       "       'Selahaddin Eyyubi, Esenyurt\\n, İstanbul',\n",
       "       'Örnek, Esenyurt\\n, İstanbul', 'Kirazlı, Bağcılar\\n, İstanbul',\n",
       "       'Yenişehir, Ataşehir\\n, İstanbul',\n",
       "       'Cennet, Küçükçekmece\\n, İstanbul',\n",
       "       'Şehit Muhtar, Beyoğlu\\n, İstanbul',\n",
       "       'Meşrutiyet, Şişli\\n, İstanbul', 'Molla Hüsrev, Fatih\\n, İstanbul',\n",
       "       'Fındıklı, Maltepe\\n, İstanbul', 'Haznedar, Güngören\\n, İstanbul',\n",
       "       'Kartaltepe, Küçükçekmece\\n, İstanbul',\n",
       "       'Çayırbaşı, Sarıyer\\n, İstanbul', 'Ahmetli, Şile\\n, İstanbul',\n",
       "       'Çengeldere, Beykoz\\n, İstanbul',\n",
       "       'Cumhuriyet, Küçükçekmece\\n, İstanbul',\n",
       "       'Kozyatağı, Kadıköy\\n, İstanbul',\n",
       "       'İnönü, Küçükçekmece\\n, İstanbul',\n",
       "       'Yenimahalle, Bakırköy\\n, İstanbul',\n",
       "       'Halil Rıfat Paşa, Şişli\\n, İstanbul',\n",
       "       'İnkılap, Ümraniye\\n, İstanbul', 'Altunizade, Üsküdar\\n, İstanbul',\n",
       "       'Dumlupınar, Kadıköy\\n, İstanbul',\n",
       "       'İdealtepe, Maltepe\\n, İstanbul', 'Fatih, Sancaktepe\\n, İstanbul',\n",
       "       'Çınar, Esenyurt\\n, İstanbul', 'Ayvansaray, Fatih\\n, İstanbul',\n",
       "       'Yahya Kemal, Kağıthane\\n, İstanbul', 'Çukur, Beyoğlu\\n, İstanbul',\n",
       "       'Mehmet Akif, Ümraniye\\n, İstanbul',\n",
       "       'Mahmutbey, Bağcılar\\n, İstanbul',\n",
       "       'Karadeniz, Gaziosmanpaşa\\n, İstanbul',\n",
       "       'Muratpaşa, Bayrampaşa\\n, İstanbul',\n",
       "       'Bereketzade, Beyoğlu\\n, İstanbul',\n",
       "       'Cumhuriyet, Sultangazi\\n, İstanbul',\n",
       "       'Ergenekon, Şişli\\n, İstanbul', 'Kuştepe, Şişli\\n, İstanbul',\n",
       "       'Bağlarbaşı, Gaziosmanpaşa\\n, İstanbul',\n",
       "       'Bebek, Beşiktaş\\n, İstanbul', 'Atakent, Ümraniye\\n, İstanbul',\n",
       "       'Ortaköy, Beşiktaş\\n, İstanbul',\n",
       "       'Uğur Mumcu, Sultangazi\\n, İstanbul',\n",
       "       'Yenigün, Bağcılar\\n, İstanbul',\n",
       "       'Yarımburgaz, Küçükçekmece\\n, İstanbul',\n",
       "       'Halkalı Merkez, Küçükçekmece\\n, İstanbul',\n",
       "       'İsmetpaşa, Sultangazi\\n, İstanbul',\n",
       "       'Ömerli, Arnavutköy\\n, İstanbul', 'Site, Ümraniye\\n, İstanbul',\n",
       "       'Kulaksız, Beyoğlu\\n, İstanbul', 'Duatepe, Şişli\\n, İstanbul',\n",
       "       'Sütlüce, Beyoğlu\\n, İstanbul', 'Madenler, Ümraniye\\n, İstanbul',\n",
       "       'Sarıgöl, Gaziosmanpaşa\\n, İstanbul',\n",
       "       'Uğur Mumcu, Kartal\\n, İstanbul',\n",
       "       'Bahçeşehir 2. Kısım, Başakşehir\\n, İstanbul',\n",
       "       'Mehmet Akif, Küçükçekmece\\n, İstanbul',\n",
       "       'Mimar Kemalettin, Fatih\\n, İstanbul',\n",
       "       'Akşemsettin, Fatih\\n, İstanbul',\n",
       "       'Aydınlı-İstanbul Ay OSB, Tuzla\\n, İstanbul',\n",
       "       'Aydınlar, Çekmeköy\\n, İstanbul', 'Taşdelen, Çekmeköy\\n, İstanbul',\n",
       "       'Şerifali, Ümraniye\\n, İstanbul',\n",
       "       'Aşağı Dudullu, Ümraniye\\n, İstanbul',\n",
       "       'Abdurrahmangazi, Sancaktepe\\n, İstanbul',\n",
       "       'Ziya Gökalp, Başakşehir\\n, İstanbul',\n",
       "       'Emek, Sancaktepe\\n, İstanbul', 'Kemal Paşa, Fatih\\n, İstanbul',\n",
       "       'Terazidere, Bayrampaşa\\n, İstanbul',\n",
       "       'Müeyyetzade, Beyoğlu\\n, İstanbul',\n",
       "       'Şirinevler, Bahçelievler\\n, İstanbul',\n",
       "       'Kılıçali Paşa, Beyoğlu\\n, İstanbul',\n",
       "       'Küçükyalı, Maltepe\\n, İstanbul',\n",
       "       'Eyüp Sultan, Sancaktepe\\n, İstanbul',\n",
       "       'Abdurrahman Nafiz Gürman, Güngören\\n, İstanbul',\n",
       "       'Turgut Özal, Esenyurt\\n, İstanbul', 'Çınar, Maltepe\\n, İstanbul',\n",
       "       'Çubuklu, Beykoz\\n, İstanbul',\n",
       "       'Mehmet Akif Ersoy, Arnavutköy\\n, İstanbul',\n",
       "       'Orhantepe, Kartal\\n, İstanbul', 'Firuzağa, Beyoğlu\\n, İstanbul',\n",
       "       'Rumeli Hisarı, Sarıyer\\n, İstanbul',\n",
       "       'Yenişehir, Pendik\\n, İstanbul',\n",
       "       'Namık Kemal, Esenyurt\\n, İstanbul'], dtype=object)"
      ]
     },
     "execution_count": 12,
     "metadata": {},
     "output_type": "execute_result"
    }
   ],
   "source": [
    "df[\"Location\"].unique()"
   ]
  },
  {
   "cell_type": "code",
   "execution_count": 13,
   "id": "11a8608c",
   "metadata": {},
   "outputs": [],
   "source": [
    "df['Location'] = df['Location'].apply(lambda x: str(x).replace(\"\\n\", \"\") if pd.notnull(x) else x)# delete unwanted icons"
   ]
  },
  {
   "cell_type": "code",
   "execution_count": 14,
   "id": "ebba95ad-0342-4b00-b62c-cc3a775808ad",
   "metadata": {},
   "outputs": [
    {
     "data": {
      "text/plain": [
       "'11.000 TL'"
      ]
     },
     "execution_count": 14,
     "metadata": {},
     "output_type": "execute_result"
    }
   ],
   "source": [
    "df[\"Price\"][2]"
   ]
  },
  {
   "cell_type": "code",
   "execution_count": 15,
   "id": "0f97bbb9-7fb5-4215-bbd6-4fd4efa72b82",
   "metadata": {},
   "outputs": [],
   "source": [
    "df[\"Price\"] = df[\"Price\"].apply(lambda x: ''.join(filter(str.isdigit, str(x))) if pd.notna(x) else x)# delete str and turn integer"
   ]
  },
  {
   "cell_type": "code",
   "execution_count": 16,
   "id": "267ce98b-9c6e-48e1-9696-297ffb04f186",
   "metadata": {},
   "outputs": [],
   "source": [
    "df['Price'] = pd.to_numeric(df['Price'], errors='coerce').astype('Int32')"
   ]
  },
  {
   "cell_type": "code",
   "execution_count": 17,
   "id": "78ba09e7-3726-4f6d-8ba7-3d404bc73744",
   "metadata": {},
   "outputs": [
    {
     "data": {
      "text/plain": [
       "11000"
      ]
     },
     "execution_count": 17,
     "metadata": {},
     "output_type": "execute_result"
    }
   ],
   "source": [
    "df[\"Price\"][2]"
   ]
  },
  {
   "cell_type": "code",
   "execution_count": 18,
   "id": "ad922e67-e3d7-41f1-8575-2a72911ce6a9",
   "metadata": {},
   "outputs": [],
   "source": [
    "del df[\"İlan Tarihi\"]# delete useless"
   ]
  },
  {
   "cell_type": "code",
   "execution_count": 19,
   "id": "d863b727-e9b2-4b68-bebd-873bbbf5658f",
   "metadata": {},
   "outputs": [],
   "source": [
    "del df[\"İlan no\"]"
   ]
  },
  {
   "cell_type": "code",
   "execution_count": 20,
   "id": "15f3e642-b8ad-4867-9a1e-e55fefbd80d0",
   "metadata": {},
   "outputs": [],
   "source": [
    "df['Net m²'] = pd.to_numeric(df['Net m²'], errors='coerce').astype('Int32')# turn to integer "
   ]
  },
  {
   "cell_type": "code",
   "execution_count": 21,
   "id": "77ea0f7a-3f2c-426e-851a-d9595bfbcb9e",
   "metadata": {},
   "outputs": [],
   "source": [
    "del df[\"Brüt m²\"]"
   ]
  },
  {
   "cell_type": "code",
   "execution_count": 22,
   "id": "0b969030-4691-42af-b2f5-86b0653103af",
   "metadata": {},
   "outputs": [
    {
     "data": {
      "text/plain": [
       "array([nan, '3+1', '2+1', '1+1', '4+1', '1+0 (Stüdyo)', '6+2', '5+2',\n",
       "       '4+2', '6+1', '3+2', '5+1', '4+3', '8+2', '7+1', '7+3', '8+3',\n",
       "       '5+3', '7+2', '8+1'], dtype=object)"
      ]
     },
     "execution_count": 22,
     "metadata": {},
     "output_type": "execute_result"
    }
   ],
   "source": [
    "df[\"Oda Sayısı\"].unique()"
   ]
  },
  {
   "cell_type": "code",
   "execution_count": 23,
   "id": "eeca1af7-f4f4-471d-be78-8291d4404114",
   "metadata": {},
   "outputs": [],
   "source": [
    "def convert_room_count(room):# rewrite room counts\n",
    "    if pd.isna(room):\n",
    "        return np.nan\n",
    "    try:\n",
    "        parts = room.split('+')\n",
    "        return sum(int(part) for part in parts)\n",
    "    except ValueError:\n",
    "        return np.nan\n",
    "\n",
    "df['Oda Sayısı'] = df['Oda Sayısı'].apply(convert_room_count)\n"
   ]
  },
  {
   "cell_type": "code",
   "execution_count": 24,
   "id": "5992ab03-e37a-4037-b565-3f766a9e8d39",
   "metadata": {},
   "outputs": [],
   "source": [
    "df['Banyo Sayısı'] = pd.to_numeric(df['Banyo Sayısı'], errors='coerce').astype('Int32')"
   ]
  },
  {
   "cell_type": "code",
   "execution_count": 25,
   "id": "ce72ffe7-a470-4b96-b061-6137eb541b5d",
   "metadata": {},
   "outputs": [],
   "source": [
    "del df[\"Binadaki Kat Sayısı\"]"
   ]
  },
  {
   "cell_type": "code",
   "execution_count": 26,
   "id": "b7f8c39d-689e-4790-85f7-16af6c4c7c16",
   "metadata": {},
   "outputs": [],
   "source": [
    "del df[\"Krediye Uygun\"]"
   ]
  },
  {
   "cell_type": "code",
   "execution_count": 27,
   "id": "2141acea-1c10-4b99-97a6-8103d2b5db36",
   "metadata": {},
   "outputs": [
    {
     "data": {
      "text/plain": [
       "array([nan, 'Kombi (Doğalgaz)', 'Klima', 'Yok',\n",
       "       'Merkezi Sistem (Isı Payı Ölçer)', 'Kombi (Elektrikli)',\n",
       "       'Yerden Isıtma', 'Kalorifer (Doğalgaz)', 'Fancoil',\n",
       "       'Merkezi Sistem', 'Soba (Doğalgaz)', 'Combi Boiler (Natural Gas)',\n",
       "       'Soba (Kömür)', 'Central System (Heat Share Meter)',\n",
       "       'Kat Kaloriferi'], dtype=object)"
      ]
     },
     "execution_count": 27,
     "metadata": {},
     "output_type": "execute_result"
    }
   ],
   "source": [
    "df[\"Isıtma Tipi\"].unique()"
   ]
  },
  {
   "cell_type": "code",
   "execution_count": 28,
   "id": "fda11d62-d7b0-48cd-b4a8-b945c42a10cb",
   "metadata": {},
   "outputs": [],
   "source": [
    "df['Isıtma Tipi'] = df['Isıtma Tipi'].replace({\n",
    "    \"Merkezi Sistem (Isı Payı Ölçer)\": \"Central System (Heat Share Meter)\",\n",
    "    \"Kombi (Doğalgaz)\": \"Combi Boiler (Natural Gas)\"\n",
    "})\n",
    "# convert the same values"
   ]
  },
  {
   "cell_type": "code",
   "execution_count": 29,
   "id": "9003de61-0ec5-49aa-83ab-1d41e6a8eb4b",
   "metadata": {},
   "outputs": [],
   "source": [
    "df[\"Bina Yaşı\"] = df[\"Bina Yaşı\"].apply(lambda x: ''.join(filter(str.isdigit, str(x))) if pd.notna(x) else x)"
   ]
  },
  {
   "cell_type": "code",
   "execution_count": 30,
   "id": "89a36a3c-5a2b-4535-846b-ffc96d1da69f",
   "metadata": {},
   "outputs": [],
   "source": [
    "df['Bina Yaşı'] = df['Bina Yaşı'].replace({\n",
    "    \"3135\": \"33\",\n",
    "    \"1115\": \"13\",\n",
    "    \"2630\": \"28\",\n",
    "    \"2125\": \"23\",\n",
    "    \"3640\": \"38\",\n",
    "    \"1620\": \"18\",\n",
    "    \"610\":\"8\"\n",
    "})"
   ]
  },
  {
   "cell_type": "code",
   "execution_count": 31,
   "id": "786995eb-4d7b-4f1a-a14d-aab35c00b3d5",
   "metadata": {},
   "outputs": [],
   "source": [
    "df['Bina Yaşı'] = pd.to_numeric(df['Bina Yaşı'], errors='coerce').astype('Int32')"
   ]
  },
  {
   "cell_type": "code",
   "execution_count": 32,
   "id": "451c571d-a1f1-4d9b-9270-620b8e1cc10b",
   "metadata": {},
   "outputs": [
    {
     "data": {
      "text/plain": [
       "array([nan, 'Eşyasız', 'Eşyalı (Mobilyalı)', 'Sadece Beyaz Eşya',\n",
       "       'Sadece Mutfak', 'Unfurnished', 'Furnished'], dtype=object)"
      ]
     },
     "execution_count": 32,
     "metadata": {},
     "output_type": "execute_result"
    }
   ],
   "source": [
    "df['Mobilya Durumu'].unique()"
   ]
  },
  {
   "cell_type": "code",
   "execution_count": 33,
   "id": "ef770d50-a320-459b-a24c-9cbdece6d109",
   "metadata": {},
   "outputs": [],
   "source": [
    "df['Mobilya Durumu'] = df['Mobilya Durumu'].replace({\n",
    "    \"Furnished\": \"Eşyalı (Mobilyalı)\",\n",
    "    \"Unfurnished\": \"Eşyasız\"\n",
    "})"
   ]
  },
  {
   "cell_type": "code",
   "execution_count": 34,
   "id": "941618af-f72b-4173-a15e-f244247bb991",
   "metadata": {},
   "outputs": [
    {
     "data": {
      "text/plain": [
       "array([nan, '5', '4', '3', '2', '1', 'Zemin Kat', '9', '11', '12',\n",
       "       'Kot 1', 'Bahçe katı', 'Yüksek Giriş', '14', 'Giriş Katı',\n",
       "       'Müstakil', '7', 'Teras Kat', '18', '20 ve üzeri', '15', '6',\n",
       "       'En Üst Kat', '10', 'Bodrum Kat', 'Çatı Katı', '17', 'Komple', '8',\n",
       "       'Kot 2', '16', '13', '19'], dtype=object)"
      ]
     },
     "execution_count": 34,
     "metadata": {},
     "output_type": "execute_result"
    }
   ],
   "source": [
    "df['Bulunduğu Kat'].unique()"
   ]
  },
  {
   "cell_type": "code",
   "execution_count": 35,
   "id": "26c5ba17-8fd6-407b-9123-8e4a2173717e",
   "metadata": {},
   "outputs": [],
   "source": [
    "df[\"Bulunduğu Kat\"] = df[\"Bulunduğu Kat\"].replace({\n",
    "    'Giriş Katı': '1',\n",
    "    'Kot 1': '1',\n",
    "    'Zemin Kat': '0',\n",
    "    'Bahçe katı': '0',  \n",
    "    'En Üst Kat': '20 ve üzeri',\n",
    "    '20+': '20 ve üzeri',\n",
    "    'Teras Kat': '20 ve üzeri',\n",
    "    'Çatı Katı': '20 ve üzeri',\n",
    "    'Yüksek Giriş': '3',\n",
    "    'Kot 2': '2',\n",
    "    \"Komple\":\"4\",\n",
    "    \"Müstakil\":\"2\",\n",
    "    \"20 ve üzeri\":\"22\",\n",
    "    \"Bodrum Kat\":\"-1\"\n",
    "})\n"
   ]
  },
  {
   "cell_type": "code",
   "execution_count": 36,
   "id": "67dd1247-b79a-48a1-b789-fd295f0173db",
   "metadata": {},
   "outputs": [
    {
     "data": {
      "text/plain": [
       "<IntegerArray>\n",
       "[<NA>, 33, 0, 13, 28, 8, 23, 4, 5, 38, 40, 1, 18, 3, 2]\n",
       "Length: 15, dtype: Int32"
      ]
     },
     "execution_count": 36,
     "metadata": {},
     "output_type": "execute_result"
    }
   ],
   "source": [
    "df[\"Bina Yaşı\"].unique()"
   ]
  },
  {
   "cell_type": "code",
   "execution_count": 43,
   "id": "535e8287-6c59-4179-959a-40daf7d5980f",
   "metadata": {},
   "outputs": [],
   "source": [
    "df[\"Bina Yaşı\"] = df[\"Bina Yaşı\"].replace({\n",
    "    'Between 6-10': '6-10 arası',\n",
    "    'Between 11-15': '11-15 arası',\n",
    "    'Between 21-25': '21-25 arası',\n",
    "    'Between 26-30': '26-30 arası',\n",
    "    'Between 31-35': '31-35 arası',\n",
    "})"
   ]
  },
  {
   "cell_type": "code",
   "execution_count": 38,
   "id": "4a4b123c-04f2-460a-aa27-ad2a2b4718bd",
   "metadata": {},
   "outputs": [],
   "source": [
    "df = df.drop(['Kullanım Durumu', 'Yapının Durumu', 'Depozito', 'Aidat', 'Kimden', 'm²'], axis=1)"
   ]
  },
  {
   "cell_type": "code",
   "execution_count": 39,
   "id": "a7cfec80-937e-48b9-a1cc-58fc227f486d",
   "metadata": {},
   "outputs": [],
   "source": [
    "# fill mising values\n",
    "imputer = KNNImputer(n_neighbors=2)\n",
    "numeric_cols = df.select_dtypes(include=[np.number]).columns\n",
    "df[numeric_cols] = imputer.fit_transform(df[numeric_cols])\n",
    "\n",
    "categorical_cols = df.select_dtypes(include=[object]).columns\n",
    "for col in categorical_cols:\n",
    "    df[col].fillna(df[col].mode()[0], inplace=True)"
   ]
  },
  {
   "cell_type": "code",
   "execution_count": 45,
   "id": "bcb408a8-5de1-4531-a33a-41664d87d7e2",
   "metadata": {},
   "outputs": [],
   "source": [
    "#returning to integer\n",
    "df['Price'] = df['Price'].astype(\"int\")\n",
    "df['Net m²'] = df['Net m²'].astype(\"int\")\n",
    "df['Oda Sayısı'] = df['Oda Sayısı'].astype(\"int\")\n",
    "df['Banyo Sayısı'] = df['Banyo Sayısı'].astype(\"int\")"
   ]
  },
  {
   "cell_type": "code",
   "execution_count": 46,
   "id": "d5057e36-faf1-434f-89e9-c328b89a5143",
   "metadata": {},
   "outputs": [
    {
     "data": {
      "text/plain": [
       "Location          0\n",
       "Price             0\n",
       "Net m²            0\n",
       "Oda Sayısı        0\n",
       "Banyo Sayısı      0\n",
       "Bulunduğu Kat     0\n",
       "Isıtma Tipi       0\n",
       "Bina Yaşı         0\n",
       "Mobilya Durumu    0\n",
       "dtype: int64"
      ]
     },
     "execution_count": 46,
     "metadata": {},
     "output_type": "execute_result"
    }
   ],
   "source": [
    "df.isnull().sum()"
   ]
  },
  {
   "cell_type": "code",
   "execution_count": 47,
   "id": "be32553c",
   "metadata": {},
   "outputs": [
    {
     "data": {
      "text/html": [
       "<div>\n",
       "<style scoped>\n",
       "    .dataframe tbody tr th:only-of-type {\n",
       "        vertical-align: middle;\n",
       "    }\n",
       "\n",
       "    .dataframe tbody tr th {\n",
       "        vertical-align: top;\n",
       "    }\n",
       "\n",
       "    .dataframe thead th {\n",
       "        text-align: right;\n",
       "    }\n",
       "</style>\n",
       "<table border=\"1\" class=\"dataframe\">\n",
       "  <thead>\n",
       "    <tr style=\"text-align: right;\">\n",
       "      <th></th>\n",
       "      <th>Location</th>\n",
       "      <th>Price</th>\n",
       "      <th>Net m²</th>\n",
       "      <th>Oda Sayısı</th>\n",
       "      <th>Banyo Sayısı</th>\n",
       "      <th>Bulunduğu Kat</th>\n",
       "      <th>Isıtma Tipi</th>\n",
       "      <th>Bina Yaşı</th>\n",
       "      <th>Mobilya Durumu</th>\n",
       "    </tr>\n",
       "  </thead>\n",
       "  <tbody>\n",
       "    <tr>\n",
       "      <th>0</th>\n",
       "      <td>Maslak, Sarıyer, İstanbul</td>\n",
       "      <td>218046</td>\n",
       "      <td>157</td>\n",
       "      <td>3</td>\n",
       "      <td>1</td>\n",
       "      <td>1</td>\n",
       "      <td>Combi Boiler (Natural Gas)</td>\n",
       "      <td>14.637827</td>\n",
       "      <td>Eşyasız</td>\n",
       "    </tr>\n",
       "    <tr>\n",
       "      <th>1</th>\n",
       "      <td>Fevzi Çakmak, Esenler, İstanbul</td>\n",
       "      <td>30000</td>\n",
       "      <td>130</td>\n",
       "      <td>4</td>\n",
       "      <td>2</td>\n",
       "      <td>5</td>\n",
       "      <td>Combi Boiler (Natural Gas)</td>\n",
       "      <td>33.000000</td>\n",
       "      <td>Eşyasız</td>\n",
       "    </tr>\n",
       "    <tr>\n",
       "      <th>2</th>\n",
       "      <td>Soğanlı, Bahçelievler, İstanbul</td>\n",
       "      <td>11000</td>\n",
       "      <td>70</td>\n",
       "      <td>3</td>\n",
       "      <td>1</td>\n",
       "      <td>5</td>\n",
       "      <td>Combi Boiler (Natural Gas)</td>\n",
       "      <td>33.000000</td>\n",
       "      <td>Eşyasız</td>\n",
       "    </tr>\n",
       "    <tr>\n",
       "      <th>3</th>\n",
       "      <td>Göztepe, Kadıköy, İstanbul</td>\n",
       "      <td>50000</td>\n",
       "      <td>70</td>\n",
       "      <td>3</td>\n",
       "      <td>1</td>\n",
       "      <td>4</td>\n",
       "      <td>Combi Boiler (Natural Gas)</td>\n",
       "      <td>0.000000</td>\n",
       "      <td>Eşyasız</td>\n",
       "    </tr>\n",
       "    <tr>\n",
       "      <th>4</th>\n",
       "      <td>Maslak, Sarıyer, İstanbul</td>\n",
       "      <td>218046</td>\n",
       "      <td>157</td>\n",
       "      <td>3</td>\n",
       "      <td>1</td>\n",
       "      <td>1</td>\n",
       "      <td>Combi Boiler (Natural Gas)</td>\n",
       "      <td>14.637827</td>\n",
       "      <td>Eşyasız</td>\n",
       "    </tr>\n",
       "  </tbody>\n",
       "</table>\n",
       "</div>"
      ],
      "text/plain": [
       "                          Location   Price  Net m²  Oda Sayısı  Banyo Sayısı  \\\n",
       "0        Maslak, Sarıyer, İstanbul  218046     157           3             1   \n",
       "1  Fevzi Çakmak, Esenler, İstanbul   30000     130           4             2   \n",
       "2  Soğanlı, Bahçelievler, İstanbul   11000      70           3             1   \n",
       "3       Göztepe, Kadıköy, İstanbul   50000      70           3             1   \n",
       "4        Maslak, Sarıyer, İstanbul  218046     157           3             1   \n",
       "\n",
       "  Bulunduğu Kat                 Isıtma Tipi  Bina Yaşı Mobilya Durumu  \n",
       "0             1  Combi Boiler (Natural Gas)  14.637827        Eşyasız  \n",
       "1             5  Combi Boiler (Natural Gas)  33.000000        Eşyasız  \n",
       "2             5  Combi Boiler (Natural Gas)  33.000000        Eşyasız  \n",
       "3             4  Combi Boiler (Natural Gas)   0.000000        Eşyasız  \n",
       "4             1  Combi Boiler (Natural Gas)  14.637827        Eşyasız  "
      ]
     },
     "execution_count": 47,
     "metadata": {},
     "output_type": "execute_result"
    }
   ],
   "source": [
    "df.head()"
   ]
  },
  {
   "cell_type": "markdown",
   "id": "774a1c70-3b52-4b1c-b250-b36df62fd520",
   "metadata": {},
   "source": [
    "### Save clean data"
   ]
  },
  {
   "cell_type": "code",
   "execution_count": 48,
   "id": "61decafe",
   "metadata": {},
   "outputs": [],
   "source": [
    "with open(\"clean_data.pickle\", 'wb') as file:\n",
    "    pickle.dump(df, file)"
   ]
  },
  {
   "cell_type": "markdown",
   "id": "7db8bd0b",
   "metadata": {},
   "source": [
    "-Zafer Acar Notes<br> -[https://poe.com/chat/2rhcfi4djoj4u359vfr]"
   ]
  }
 ],
 "metadata": {
  "kernelspec": {
   "display_name": "Python 3 (ipykernel)",
   "language": "python",
   "name": "python3"
  },
  "language_info": {
   "codemirror_mode": {
    "name": "ipython",
    "version": 3
   },
   "file_extension": ".py",
   "mimetype": "text/x-python",
   "name": "python",
   "nbconvert_exporter": "python",
   "pygments_lexer": "ipython3",
   "version": "3.11.7"
  }
 },
 "nbformat": 4,
 "nbformat_minor": 5
}
